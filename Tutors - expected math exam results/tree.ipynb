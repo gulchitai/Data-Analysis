{
 "cells": [
  {
   "cell_type": "code",
   "execution_count": 20,
   "metadata": {},
   "outputs": [
    {
     "name": "stdout",
     "output_type": "stream",
     "text": [
      "depth=1, level=0\n",
      "depth=1, level=1\n",
      "depth=1, level=1\n"
     ]
    },
    {
     "name": "stderr",
     "output_type": "stream",
     "text": [
      "C:\\Users\\sych_\\Anaconda3\\lib\\site-packages\\ipykernel_launcher.py:38: RuntimeWarning: Mean of empty slice.\n"
     ]
    }
   ],
   "source": [
    "import numpy as np\n",
    "# Реализуем класс узла\n",
    "\n",
    "class Node:\n",
    "\n",
    "    def __init__(self, index, t, true_branch, false_branch, level):\n",
    "        self.index = index  # индекс признака, по которому ведется сравнение с порогом в этом узле\n",
    "        self.t = t  # значение порога\n",
    "        self.true_branch = true_branch  # поддерево, удовлетворяющее условию в узле\n",
    "        self.false_branch = false_branch  # поддерево, не удовлетворяющее условию в узле\n",
    "        self.level = level # уровень узла\n",
    "\n",
    "# И класс терминального узла (листа)\n",
    "class Leaf:\n",
    "\n",
    "    def __init__(self, data, labels):\n",
    "        self.data = data\n",
    "        self.labels = labels  # y_true\n",
    "        self.prediction = self.predict()  # y_pred\n",
    "\n",
    "    def predict(self):\n",
    "        return self.labels.mean()\n",
    "\n",
    "\n",
    "# Разбиение датасета в узле\n",
    "\n",
    "def split(data, labels, index, t):\n",
    "    left = np.where(data[:, index] <= t)\n",
    "    right = np.where(data[:, index] > t)\n",
    "\n",
    "    true_data = data[left]\n",
    "    false_data = data[right]\n",
    "    true_labels = labels[left]\n",
    "    false_labels = labels[right]\n",
    "    return true_data, false_data, true_labels, false_labels\n",
    "\n",
    "def rss(labels):\n",
    "    return np.sum((labels - labels.mean())**2)\n",
    "\n",
    "# Расчет качества\n",
    "def quality(left_labels, right_labels):\n",
    "    return rss(left_labels) + rss(right_labels)\n",
    "\n",
    "\n",
    "# Нахождение наилучшего разбиения\n",
    "\n",
    "def find_best_split(data, labels):\n",
    "    #  обозначим минимальное количество объектов в узле\n",
    "    min_leaf = 5\n",
    "\n",
    "    best_rss = rss(labels)\n",
    "    best_t = None\n",
    "    best_index = None\n",
    "\n",
    "    n_features = data.shape[1]\n",
    "\n",
    "    for index in range(n_features):\n",
    "        t_values = [row[index] for row in data]\n",
    "        for t in t_values:\n",
    "            true_data, false_data, true_labels, false_labels = split(data, labels, index, t)\n",
    "            ##  пропускаем разбиения, в которых в узле остается менее 5 объектов\n",
    "            # if len(true_data) < min_leaf or len(false_data) < min_leaf:\n",
    "            #    continue\n",
    "\n",
    "            current_rss = quality(true_labels, false_labels)\n",
    "\n",
    "            #  выбираем порог, на котором получается максимальный прирост качества\n",
    "            if current_rss < best_rss:\n",
    "                best_rss, best_t, best_index = current_rss, t, index\n",
    "\n",
    "    return best_rss, best_t, best_index\n",
    "\n",
    "# Построение дерева с помощью рекурсивной функции\n",
    "\n",
    "def build_tree(data, labels, level = 0, depth = 0):\n",
    "\n",
    "    RSS, t, index = find_best_split(data, labels)\n",
    "    #  Базовый случай - прекращаем рекурсию, когда ошибка равна 0\n",
    "    if rss(labels) == 0:\n",
    "        return Leaf(data, labels)\n",
    "    \n",
    "    # Прекращаем рекурсию когда достигли заданной глубины дерева\n",
    "    if depth != 0 and level == depth:\n",
    "        return Leaf(data, labels)\n",
    "\n",
    "    true_data, false_data, true_labels, false_labels = split(data, labels, index, t)\n",
    "\n",
    "    # Рекурсивно строим два поддерева\n",
    "    level += 1\n",
    "    true_branch = build_tree(true_data, true_labels, level, depth)\n",
    "    false_branch = build_tree(false_data, false_labels, level, depth)\n",
    "\n",
    "    # Возвращаем класс узла со всеми поддеревьями, то есть целого дерева\n",
    "    return Node(index, t, true_branch, false_branch, level)\n",
    "\n",
    "# Построим дерево по обучающей выборке\n",
    "X_train = np.array([[1],[2],[3],[4],[5]])\n",
    "y_train = np.array([1,2,9,10,10])\n",
    "my_tree = build_tree(X_train, y_train, depth=1)"
   ]
  },
  {
   "cell_type": "code",
   "execution_count": 21,
   "metadata": {},
   "outputs": [
    {
     "name": "stdout",
     "output_type": "stream",
     "text": [
      "Индекс 0\n",
      "Порог 2\n",
      "--> True:\n",
      "  Прогноз: 1.5\n",
      "--> False:\n",
      "  Прогноз: 9.666666666666666\n"
     ]
    }
   ],
   "source": [
    "# Напечатаем ход нашего дерева\n",
    "def print_tree(node, spacing=\"\"):\n",
    "\n",
    "    # Если лист, то выводим его прогноз\n",
    "    if isinstance(node, Leaf):\n",
    "        print(spacing + \"Прогноз:\", node.prediction)\n",
    "        return\n",
    "\n",
    "    # Выведем значение индекса и порога на этом узле\n",
    "    print(spacing + 'Индекс', str(node.index))\n",
    "    print(spacing + 'Порог', str(node.t))\n",
    "\n",
    "    # Рекурсионный вызов функции на положительном поддереве\n",
    "    print (spacing + '--> True:')\n",
    "    print_tree(node.true_branch, spacing + \"  \")\n",
    "\n",
    "    # Рекурсионный вызов функции на положительном поддереве\n",
    "    print (spacing + '--> False:')\n",
    "    print_tree(node.false_branch, spacing + \"  \")\n",
    "    \n",
    "print_tree(my_tree)"
   ]
  },
  {
   "cell_type": "code",
   "execution_count": 22,
   "metadata": {},
   "outputs": [],
   "source": [
    "# Проход объекта по дереву для его классификации\n",
    "def pred_object(obj, node):\n",
    "\n",
    "    #  Останавливаем рекурсию, если достигли листа\n",
    "    if isinstance(node, Leaf):\n",
    "        answer = node.prediction\n",
    "        return answer\n",
    "\n",
    "    if obj[node.index] <= node.t:\n",
    "        return pred_object(obj, node.true_branch)\n",
    "    else:\n",
    "        return pred_object(obj, node.false_branch)"
   ]
  },
  {
   "cell_type": "code",
   "execution_count": 23,
   "metadata": {},
   "outputs": [],
   "source": [
    "# Предсказание деревом для всего датасета\n",
    "\n",
    "def predict(data, tree):\n",
    "    \n",
    "    y_pred = []\n",
    "    for obj in data:\n",
    "        prediction = pred_object(obj, tree)\n",
    "        y_pred.append(prediction)\n",
    "    return y_pred"
   ]
  },
  {
   "cell_type": "code",
   "execution_count": 24,
   "metadata": {},
   "outputs": [
    {
     "data": {
      "text/plain": [
       "[1.5, 1.5, 9.666666666666666, 9.666666666666666, 9.666666666666666]"
      ]
     },
     "execution_count": 24,
     "metadata": {},
     "output_type": "execute_result"
    }
   ],
   "source": [
    "# Получим ответы для обучающей выборки \n",
    "train_answers = predict(X_train, my_tree)\n",
    "train_answers"
   ]
  },
  {
   "cell_type": "code",
   "execution_count": 25,
   "metadata": {},
   "outputs": [],
   "source": [
    "X_test = np.array([[15],[0]])"
   ]
  },
  {
   "cell_type": "code",
   "execution_count": 26,
   "metadata": {},
   "outputs": [
    {
     "data": {
      "text/plain": [
       "[9.666666666666666, 1.5]"
      ]
     },
     "execution_count": 26,
     "metadata": {},
     "output_type": "execute_result"
    }
   ],
   "source": [
    "# И получим ответы для тестовой выборки\n",
    "answers = predict(X_test, my_tree)\n",
    "answers"
   ]
  },
  {
   "cell_type": "code",
   "execution_count": null,
   "metadata": {},
   "outputs": [],
   "source": []
  }
 ],
 "metadata": {
  "kernelspec": {
   "display_name": "Python 3",
   "language": "python",
   "name": "python3"
  },
  "language_info": {
   "codemirror_mode": {
    "name": "ipython",
    "version": 3
   },
   "file_extension": ".py",
   "mimetype": "text/x-python",
   "name": "python",
   "nbconvert_exporter": "python",
   "pygments_lexer": "ipython3",
   "version": "3.7.5"
  }
 },
 "nbformat": 4,
 "nbformat_minor": 2
}
