{
 "cells": [
  {
   "cell_type": "code",
   "execution_count": 237,
   "metadata": {},
   "outputs": [],
   "source": [
    "import numpy as np\n",
    "import matplotlib.pyplot as plt\n",
    "import pandas as pd\n",
    "import seaborn as sns"
   ]
  },
  {
   "cell_type": "code",
   "execution_count": 238,
   "metadata": {},
   "outputs": [],
   "source": [
    "df = pd.read_csv('train.csv',',')"
   ]
  },
  {
   "cell_type": "code",
   "execution_count": 239,
   "metadata": {},
   "outputs": [
    {
     "name": "stdout",
     "output_type": "stream",
     "text": [
      "<class 'pandas.core.frame.DataFrame'>\n",
      "RangeIndex: 10000 entries, 0 to 9999\n",
      "Data columns (total 13 columns):\n",
      "Id                     10000 non-null int64\n",
      "age                    10000 non-null float64\n",
      "years_of_experience    10000 non-null float64\n",
      "lesson_price           10000 non-null float64\n",
      "qualification          10000 non-null float64\n",
      "physics                10000 non-null float64\n",
      "chemistry              10000 non-null float64\n",
      "biology                10000 non-null float64\n",
      "english                10000 non-null float64\n",
      "geography              10000 non-null float64\n",
      "history                10000 non-null float64\n",
      "mean_exam_points       10000 non-null float64\n",
      "choose                 10000 non-null int64\n",
      "dtypes: float64(11), int64(2)\n",
      "memory usage: 1015.7 KB\n"
     ]
    }
   ],
   "source": [
    "df.info()"
   ]
  },
  {
   "cell_type": "code",
   "execution_count": 240,
   "metadata": {
    "scrolled": true
   },
   "outputs": [
    {
     "data": {
      "text/html": [
       "<div>\n",
       "<style scoped>\n",
       "    .dataframe tbody tr th:only-of-type {\n",
       "        vertical-align: middle;\n",
       "    }\n",
       "\n",
       "    .dataframe tbody tr th {\n",
       "        vertical-align: top;\n",
       "    }\n",
       "\n",
       "    .dataframe thead th {\n",
       "        text-align: right;\n",
       "    }\n",
       "</style>\n",
       "<table border=\"1\" class=\"dataframe\">\n",
       "  <thead>\n",
       "    <tr style=\"text-align: right;\">\n",
       "      <th></th>\n",
       "      <th>Id</th>\n",
       "      <th>age</th>\n",
       "      <th>years_of_experience</th>\n",
       "      <th>lesson_price</th>\n",
       "      <th>qualification</th>\n",
       "      <th>physics</th>\n",
       "      <th>chemistry</th>\n",
       "      <th>biology</th>\n",
       "      <th>english</th>\n",
       "      <th>geography</th>\n",
       "      <th>history</th>\n",
       "      <th>mean_exam_points</th>\n",
       "      <th>choose</th>\n",
       "    </tr>\n",
       "  </thead>\n",
       "  <tbody>\n",
       "    <tr>\n",
       "      <th>count</th>\n",
       "      <td>10000.00000</td>\n",
       "      <td>10000.000000</td>\n",
       "      <td>10000.000000</td>\n",
       "      <td>10000.000000</td>\n",
       "      <td>10000.000000</td>\n",
       "      <td>10000.00000</td>\n",
       "      <td>10000.000000</td>\n",
       "      <td>10000.000000</td>\n",
       "      <td>10000.000000</td>\n",
       "      <td>10000.00000</td>\n",
       "      <td>10000.000000</td>\n",
       "      <td>10000.000000</td>\n",
       "      <td>10000.000000</td>\n",
       "    </tr>\n",
       "    <tr>\n",
       "      <th>mean</th>\n",
       "      <td>4999.50000</td>\n",
       "      <td>45.800900</td>\n",
       "      <td>1.974800</td>\n",
       "      <td>1702.440000</td>\n",
       "      <td>1.724300</td>\n",
       "      <td>0.37060</td>\n",
       "      <td>0.121500</td>\n",
       "      <td>0.117200</td>\n",
       "      <td>0.059100</td>\n",
       "      <td>0.02770</td>\n",
       "      <td>0.018000</td>\n",
       "      <td>64.435200</td>\n",
       "      <td>0.110900</td>\n",
       "    </tr>\n",
       "    <tr>\n",
       "      <th>std</th>\n",
       "      <td>2886.89568</td>\n",
       "      <td>8.030274</td>\n",
       "      <td>1.766883</td>\n",
       "      <td>523.789062</td>\n",
       "      <td>0.798845</td>\n",
       "      <td>0.48299</td>\n",
       "      <td>0.326724</td>\n",
       "      <td>0.321675</td>\n",
       "      <td>0.235824</td>\n",
       "      <td>0.16412</td>\n",
       "      <td>0.132958</td>\n",
       "      <td>13.595024</td>\n",
       "      <td>0.314024</td>\n",
       "    </tr>\n",
       "    <tr>\n",
       "      <th>min</th>\n",
       "      <td>0.00000</td>\n",
       "      <td>23.000000</td>\n",
       "      <td>0.000000</td>\n",
       "      <td>200.000000</td>\n",
       "      <td>1.000000</td>\n",
       "      <td>0.00000</td>\n",
       "      <td>0.000000</td>\n",
       "      <td>0.000000</td>\n",
       "      <td>0.000000</td>\n",
       "      <td>0.00000</td>\n",
       "      <td>0.000000</td>\n",
       "      <td>33.000000</td>\n",
       "      <td>0.000000</td>\n",
       "    </tr>\n",
       "    <tr>\n",
       "      <th>25%</th>\n",
       "      <td>2499.75000</td>\n",
       "      <td>40.000000</td>\n",
       "      <td>0.000000</td>\n",
       "      <td>1300.000000</td>\n",
       "      <td>1.000000</td>\n",
       "      <td>0.00000</td>\n",
       "      <td>0.000000</td>\n",
       "      <td>0.000000</td>\n",
       "      <td>0.000000</td>\n",
       "      <td>0.00000</td>\n",
       "      <td>0.000000</td>\n",
       "      <td>55.000000</td>\n",
       "      <td>0.000000</td>\n",
       "    </tr>\n",
       "    <tr>\n",
       "      <th>50%</th>\n",
       "      <td>4999.50000</td>\n",
       "      <td>46.000000</td>\n",
       "      <td>2.000000</td>\n",
       "      <td>1550.000000</td>\n",
       "      <td>2.000000</td>\n",
       "      <td>0.00000</td>\n",
       "      <td>0.000000</td>\n",
       "      <td>0.000000</td>\n",
       "      <td>0.000000</td>\n",
       "      <td>0.00000</td>\n",
       "      <td>0.000000</td>\n",
       "      <td>63.000000</td>\n",
       "      <td>0.000000</td>\n",
       "    </tr>\n",
       "    <tr>\n",
       "      <th>75%</th>\n",
       "      <td>7499.25000</td>\n",
       "      <td>51.000000</td>\n",
       "      <td>3.000000</td>\n",
       "      <td>2150.000000</td>\n",
       "      <td>2.000000</td>\n",
       "      <td>1.00000</td>\n",
       "      <td>0.000000</td>\n",
       "      <td>0.000000</td>\n",
       "      <td>0.000000</td>\n",
       "      <td>0.00000</td>\n",
       "      <td>0.000000</td>\n",
       "      <td>74.000000</td>\n",
       "      <td>0.000000</td>\n",
       "    </tr>\n",
       "    <tr>\n",
       "      <th>max</th>\n",
       "      <td>9999.00000</td>\n",
       "      <td>68.000000</td>\n",
       "      <td>9.000000</td>\n",
       "      <td>3950.000000</td>\n",
       "      <td>4.000000</td>\n",
       "      <td>1.00000</td>\n",
       "      <td>1.000000</td>\n",
       "      <td>1.000000</td>\n",
       "      <td>1.000000</td>\n",
       "      <td>1.00000</td>\n",
       "      <td>1.000000</td>\n",
       "      <td>100.000000</td>\n",
       "      <td>1.000000</td>\n",
       "    </tr>\n",
       "  </tbody>\n",
       "</table>\n",
       "</div>"
      ],
      "text/plain": [
       "                Id           age  years_of_experience  lesson_price  \\\n",
       "count  10000.00000  10000.000000         10000.000000  10000.000000   \n",
       "mean    4999.50000     45.800900             1.974800   1702.440000   \n",
       "std     2886.89568      8.030274             1.766883    523.789062   \n",
       "min        0.00000     23.000000             0.000000    200.000000   \n",
       "25%     2499.75000     40.000000             0.000000   1300.000000   \n",
       "50%     4999.50000     46.000000             2.000000   1550.000000   \n",
       "75%     7499.25000     51.000000             3.000000   2150.000000   \n",
       "max     9999.00000     68.000000             9.000000   3950.000000   \n",
       "\n",
       "       qualification      physics     chemistry       biology       english  \\\n",
       "count   10000.000000  10000.00000  10000.000000  10000.000000  10000.000000   \n",
       "mean        1.724300      0.37060      0.121500      0.117200      0.059100   \n",
       "std         0.798845      0.48299      0.326724      0.321675      0.235824   \n",
       "min         1.000000      0.00000      0.000000      0.000000      0.000000   \n",
       "25%         1.000000      0.00000      0.000000      0.000000      0.000000   \n",
       "50%         2.000000      0.00000      0.000000      0.000000      0.000000   \n",
       "75%         2.000000      1.00000      0.000000      0.000000      0.000000   \n",
       "max         4.000000      1.00000      1.000000      1.000000      1.000000   \n",
       "\n",
       "         geography       history  mean_exam_points        choose  \n",
       "count  10000.00000  10000.000000      10000.000000  10000.000000  \n",
       "mean       0.02770      0.018000         64.435200      0.110900  \n",
       "std        0.16412      0.132958         13.595024      0.314024  \n",
       "min        0.00000      0.000000         33.000000      0.000000  \n",
       "25%        0.00000      0.000000         55.000000      0.000000  \n",
       "50%        0.00000      0.000000         63.000000      0.000000  \n",
       "75%        0.00000      0.000000         74.000000      0.000000  \n",
       "max        1.00000      1.000000        100.000000      1.000000  "
      ]
     },
     "execution_count": 240,
     "metadata": {},
     "output_type": "execute_result"
    }
   ],
   "source": [
    "df.describe()"
   ]
  },
  {
   "cell_type": "code",
   "execution_count": 241,
   "metadata": {},
   "outputs": [
    {
     "data": {
      "text/html": [
       "<div>\n",
       "<style scoped>\n",
       "    .dataframe tbody tr th:only-of-type {\n",
       "        vertical-align: middle;\n",
       "    }\n",
       "\n",
       "    .dataframe tbody tr th {\n",
       "        vertical-align: top;\n",
       "    }\n",
       "\n",
       "    .dataframe thead th {\n",
       "        text-align: right;\n",
       "    }\n",
       "</style>\n",
       "<table border=\"1\" class=\"dataframe\">\n",
       "  <thead>\n",
       "    <tr style=\"text-align: right;\">\n",
       "      <th></th>\n",
       "      <th>Id</th>\n",
       "      <th>age</th>\n",
       "      <th>years_of_experience</th>\n",
       "      <th>lesson_price</th>\n",
       "      <th>qualification</th>\n",
       "      <th>physics</th>\n",
       "      <th>chemistry</th>\n",
       "      <th>biology</th>\n",
       "      <th>english</th>\n",
       "      <th>geography</th>\n",
       "      <th>history</th>\n",
       "      <th>mean_exam_points</th>\n",
       "      <th>choose</th>\n",
       "    </tr>\n",
       "  </thead>\n",
       "  <tbody>\n",
       "    <tr>\n",
       "      <th>0</th>\n",
       "      <td>0</td>\n",
       "      <td>35.0</td>\n",
       "      <td>0.0</td>\n",
       "      <td>2150.0</td>\n",
       "      <td>2.0</td>\n",
       "      <td>0.0</td>\n",
       "      <td>0.0</td>\n",
       "      <td>0.0</td>\n",
       "      <td>0.0</td>\n",
       "      <td>0.0</td>\n",
       "      <td>0.0</td>\n",
       "      <td>74.0</td>\n",
       "      <td>0</td>\n",
       "    </tr>\n",
       "    <tr>\n",
       "      <th>1</th>\n",
       "      <td>1</td>\n",
       "      <td>52.0</td>\n",
       "      <td>2.0</td>\n",
       "      <td>1250.0</td>\n",
       "      <td>2.0</td>\n",
       "      <td>1.0</td>\n",
       "      <td>0.0</td>\n",
       "      <td>1.0</td>\n",
       "      <td>0.0</td>\n",
       "      <td>0.0</td>\n",
       "      <td>1.0</td>\n",
       "      <td>57.0</td>\n",
       "      <td>1</td>\n",
       "    </tr>\n",
       "    <tr>\n",
       "      <th>2</th>\n",
       "      <td>2</td>\n",
       "      <td>29.0</td>\n",
       "      <td>3.0</td>\n",
       "      <td>1750.0</td>\n",
       "      <td>1.0</td>\n",
       "      <td>1.0</td>\n",
       "      <td>0.0</td>\n",
       "      <td>0.0</td>\n",
       "      <td>0.0</td>\n",
       "      <td>0.0</td>\n",
       "      <td>0.0</td>\n",
       "      <td>66.0</td>\n",
       "      <td>0</td>\n",
       "    </tr>\n",
       "    <tr>\n",
       "      <th>3</th>\n",
       "      <td>3</td>\n",
       "      <td>33.0</td>\n",
       "      <td>3.0</td>\n",
       "      <td>1050.0</td>\n",
       "      <td>1.0</td>\n",
       "      <td>0.0</td>\n",
       "      <td>0.0</td>\n",
       "      <td>0.0</td>\n",
       "      <td>0.0</td>\n",
       "      <td>0.0</td>\n",
       "      <td>0.0</td>\n",
       "      <td>66.0</td>\n",
       "      <td>1</td>\n",
       "    </tr>\n",
       "    <tr>\n",
       "      <th>4</th>\n",
       "      <td>4</td>\n",
       "      <td>46.0</td>\n",
       "      <td>3.0</td>\n",
       "      <td>2250.0</td>\n",
       "      <td>2.0</td>\n",
       "      <td>1.0</td>\n",
       "      <td>0.0</td>\n",
       "      <td>0.0</td>\n",
       "      <td>0.0</td>\n",
       "      <td>0.0</td>\n",
       "      <td>0.0</td>\n",
       "      <td>73.0</td>\n",
       "      <td>0</td>\n",
       "    </tr>\n",
       "  </tbody>\n",
       "</table>\n",
       "</div>"
      ],
      "text/plain": [
       "   Id   age  years_of_experience  lesson_price  qualification  physics  \\\n",
       "0   0  35.0                  0.0        2150.0            2.0      0.0   \n",
       "1   1  52.0                  2.0        1250.0            2.0      1.0   \n",
       "2   2  29.0                  3.0        1750.0            1.0      1.0   \n",
       "3   3  33.0                  3.0        1050.0            1.0      0.0   \n",
       "4   4  46.0                  3.0        2250.0            2.0      1.0   \n",
       "\n",
       "   chemistry  biology  english  geography  history  mean_exam_points  choose  \n",
       "0        0.0      0.0      0.0        0.0      0.0              74.0       0  \n",
       "1        0.0      1.0      0.0        0.0      1.0              57.0       1  \n",
       "2        0.0      0.0      0.0        0.0      0.0              66.0       0  \n",
       "3        0.0      0.0      0.0        0.0      0.0              66.0       1  \n",
       "4        0.0      0.0      0.0        0.0      0.0              73.0       0  "
      ]
     },
     "execution_count": 241,
     "metadata": {},
     "output_type": "execute_result"
    }
   ],
   "source": [
    "df.head()"
   ]
  },
  {
   "cell_type": "code",
   "execution_count": 242,
   "metadata": {},
   "outputs": [
    {
     "data": {
      "image/png": "[encoded data removed]",
      "text/plain": [
       "<Figure size 1800x1080 with 2 Axes>"
      ]
     },
     "metadata": {},
     "output_type": "display_data"
    }
   ],
   "source": [
    "plt.figure(figsize = (25,15))\n",
    "\n",
    "sns.set(font_scale=1.2)\n",
    "sns.heatmap(df.corr(), annot=True, linewidths=.5, cmap='GnBu')\n",
    "\n",
    "plt.title('Матрица корреляции')\n",
    "plt.show()"
   ]
  },
  {
   "cell_type": "code",
   "execution_count": 309,
   "metadata": {},
   "outputs": [
    {
     "data": {
      "text/plain": [
       "array([0, 1, 0, ..., 0, 0, 0], dtype=int64)"
      ]
     },
     "execution_count": 309,
     "metadata": {},
     "output_type": "execute_result"
    }
   ],
   "source": [
    "y = df['choose'].values\n",
    "y"
   ]
  },
  {
   "cell_type": "raw",
   "metadata": {},
   "source": [
    "X = df.loc[:, df.columns != 'choose']\n",
    "X = X.values[:,1:]\n",
    "X"
   ]
  },
  {
   "cell_type": "code",
   "execution_count": 310,
   "metadata": {},
   "outputs": [
    {
     "data": {
      "text/plain": [
       "array([[0.00e+00, 2.15e+03, 2.00e+00],\n",
       "       [2.00e+00, 1.25e+03, 2.00e+00],\n",
       "       [3.00e+00, 1.75e+03, 1.00e+00],\n",
       "       ...,\n",
       "       [5.00e+00, 1.75e+03, 1.00e+00],\n",
       "       [0.00e+00, 1.70e+03, 2.00e+00],\n",
       "       [5.00e+00, 1.20e+03, 1.00e+00]])"
      ]
     },
     "execution_count": 310,
     "metadata": {},
     "output_type": "execute_result"
    }
   ],
   "source": [
    "X = df.loc[:,['years_of_experience','lesson_price','qualification']].values\n",
    "X"
   ]
  },
  {
   "cell_type": "code",
   "execution_count": 311,
   "metadata": {},
   "outputs": [],
   "source": [
    "def calc_std_feat(x):\n",
    "    res = (x - x.mean()) / x.std()\n",
    "    return res"
   ]
  },
  {
   "cell_type": "code",
   "execution_count": 312,
   "metadata": {},
   "outputs": [],
   "source": [
    "X_st = X.copy()"
   ]
  },
  {
   "cell_type": "code",
   "execution_count": 313,
   "metadata": {},
   "outputs": [],
   "source": [
    "#X_st[:, 0:3] = calc_std_feat(X[:, 0:3])\n",
    "#X_st[:, -1] = calc_std_feat(X[:, -1])\n",
    "X_st = calc_std_feat(X)"
   ]
  },
  {
   "cell_type": "code",
   "execution_count": 314,
   "metadata": {},
   "outputs": [
    {
     "data": {
      "text/plain": [
       "array([[-0.66376135, -0.66142709, -0.66025997, ..., -0.65792571,\n",
       "        -0.66376135, -0.65792571],\n",
       "       [ 1.84556554,  0.79514963,  1.37871402, ...,  1.37871402,\n",
       "         1.32035758,  0.73679319],\n",
       "       [-0.66142709, -0.66142709, -0.66259422, ..., -0.66259422,\n",
       "        -0.66142709, -0.66259422]])"
      ]
     },
     "execution_count": 314,
     "metadata": {},
     "output_type": "execute_result"
    }
   ],
   "source": [
    "X_st = X_st.T\n",
    "X_st"
   ]
  },
  {
   "cell_type": "code",
   "execution_count": 315,
   "metadata": {},
   "outputs": [],
   "source": [
    "def calc_logloss(y, y_pred):\n",
    "    for i in range(y_pred.shape[0]):\n",
    "        if y_pred[i]==1:\n",
    "            y_pred[i]-=1e-4\n",
    "        elif y_pred[i]==0:\n",
    "            y_pred[i]+=1e-4\n",
    "    err = - np.mean(y * np.log(y_pred) + (1.0 - y) * np.log(1.0 - y_pred))\n",
    "    err = np.sum(err)\n",
    "    return err"
   ]
  },
  {
   "cell_type": "code",
   "execution_count": 316,
   "metadata": {},
   "outputs": [],
   "source": [
    "def sigmoid(z):\n",
    "    res = 1 / (1 + np.exp(-0.9*z))\n",
    "    return res"
   ]
  },
  {
   "cell_type": "code",
   "execution_count": 317,
   "metadata": {},
   "outputs": [],
   "source": [
    "def eval_model(X, y, iterations, alpha=1e-4):\n",
    "    np.random.seed(42)\n",
    "    W = np.random.randn(X.shape[0])\n",
    "    n = X.shape[1]\n",
    "    for i in range(1, iterations+1):\n",
    "        z = np.dot(W, X)\n",
    "        y_pred = sigmoid(z)\n",
    "        err = calc_logloss(y, y_pred)\n",
    "        W -= alpha * (1/n * np.dot((y_pred - y), X.T))\n",
    "        if i % (iterations / 10) == 0:\n",
    "            print(i, W, err)\n",
    "    return W"
   ]
  },
  {
   "cell_type": "code",
   "execution_count": 318,
   "metadata": {},
   "outputs": [
    {
     "name": "stdout",
     "output_type": "stream",
     "text": [
      "500 [ 0.76699142 -0.6958114   0.91810914] 0.34367420905989615\n",
      "1000 [ 0.82937642 -0.82336767  0.98056286] 0.33881877415209244\n",
      "1500 [ 0.84846022 -0.86606641  0.99969853] 0.33831531127971576\n",
      "2000 [ 0.8539942  -0.8824248   1.00527911] 0.3382509621394479\n",
      "2500 [ 0.85484549 -0.88957335  1.00617529] 0.33824083809049216\n",
      "3000 [ 0.85404994 -0.89334486  1.00542415] 0.3382379750490856\n",
      "3500 [ 0.85269637 -0.89583179  1.00411496] 0.33823621130667864\n",
      "4000 [ 0.85118091 -0.8978002   1.002644  ] 0.3382347090037629\n",
      "4500 [ 0.84964749 -0.89953371  1.00115526] 0.3382333453073532\n",
      "5000 [ 0.84814746 -0.90113873  0.99970009] 0.33823209506602847\n"
     ]
    }
   ],
   "source": [
    "W = eval_model(X_st, y, iterations=5000, alpha=1e-2)"
   ]
  },
  {
   "cell_type": "code",
   "execution_count": 320,
   "metadata": {},
   "outputs": [],
   "source": [
    "def calc_pred_proba(W, X):\n",
    "    z = np.dot(W, X)\n",
    "    y_pred = sigmoid(z)\n",
    "    return y_pred"
   ]
  },
  {
   "cell_type": "code",
   "execution_count": 342,
   "metadata": {},
   "outputs": [],
   "source": [
    "def calc_pred(W, X):\n",
    "    z = np.dot(W, X)\n",
    "    y_pred = sigmoid(z)\n",
    "    return (y_pred>y_pred.mean()).astype(np.int)"
   ]
  },
  {
   "cell_type": "code",
   "execution_count": 323,
   "metadata": {},
   "outputs": [
    {
     "name": "stdout",
     "output_type": "stream",
     "text": [
      "[-2.88730681 -1.93875656 -2.46480592 ... -2.46282612 -2.41402158\n",
      " -1.8843664 ]\n"
     ]
    },
    {
     "data": {
      "text/plain": [
       "array([0, 1, 0, ..., 0, 0, 1])"
      ]
     },
     "execution_count": 323,
     "metadata": {},
     "output_type": "execute_result"
    }
   ],
   "source": [
    "y_pred = calc_pred(W,X_st)\n",
    "y_pred"
   ]
  },
  {
   "cell_type": "code",
   "execution_count": 328,
   "metadata": {},
   "outputs": [
    {
     "data": {
      "text/plain": [
       "0.4707"
      ]
     },
     "execution_count": 328,
     "metadata": {},
     "output_type": "execute_result"
    }
   ],
   "source": [
    "#доля правильных ответов\n",
    "a = np.sum(y_pred==y)/len(y)\n",
    "a"
   ]
  },
  {
   "cell_type": "code",
   "execution_count": 329,
   "metadata": {},
   "outputs": [
    {
     "name": "stdout",
     "output_type": "stream",
     "text": [
      "TP=742, TN=4926, FP=3965, FN=367\n"
     ]
    }
   ],
   "source": [
    "# матрица ошибок\n",
    "TP = np.sum(np.logical_and(y == 1, y_pred == 1))\n",
    "TN = np.sum(np.logical_and(y == 0, y_pred == 1))\n",
    "FP = np.sum(np.logical_and(y == 0, y_pred == 0))\n",
    "FN = np.sum(np.logical_and(y == 1, y_pred == 0))\n",
    "print(f'TP={TP}, TN={TN}, FP={FP}, FN={FN}')"
   ]
  },
  {
   "cell_type": "code",
   "execution_count": 330,
   "metadata": {},
   "outputs": [
    {
     "data": {
      "text/plain": [
       "0.44595658531098864"
      ]
     },
     "execution_count": 330,
     "metadata": {},
     "output_type": "execute_result"
    }
   ],
   "source": [
    "#(False Positive Rate) - отношение числа ложных срабатываний к общему размеру отрицательного класса\n",
    "FPR = FP / (FP+TN)\n",
    "FPR"
   ]
  },
  {
   "cell_type": "code",
   "execution_count": 332,
   "metadata": {},
   "outputs": [
    {
     "data": {
      "text/plain": [
       "0.6690712353471596"
      ]
     },
     "execution_count": 332,
     "metadata": {},
     "output_type": "execute_result"
    }
   ],
   "source": [
    "#(True Positive Rate) - отношение числа верных срабатываний к размеру положительного класса\n",
    "TPR = TP / (TP+FN)\n",
    "TPR"
   ]
  },
  {
   "cell_type": "raw",
   "metadata": {},
   "source": [
    "from numpy import trapz  # используем эту функцию для расчета площади под кривой\n",
    "\n",
    "AUC_ROC = trapz(TPR, x = FPR, dx=0.1)\n",
    "\n",
    "plt.title('ROC curve')\n",
    "plt.ylim(0, 1.05)\n",
    "plt.xlabel('FPR')\n",
    "plt.ylabel('TPR')\n",
    "plt.grid()\n",
    "plt.legend(' ', title=f'AUC-ROC={AUC_ROC:.3f}', loc='lower right')\n",
    "plt.plot(FPR, TPR)"
   ]
  },
  {
   "cell_type": "code",
   "execution_count": 333,
   "metadata": {},
   "outputs": [
    {
     "data": {
      "text/html": [
       "<div>\n",
       "<style scoped>\n",
       "    .dataframe tbody tr th:only-of-type {\n",
       "        vertical-align: middle;\n",
       "    }\n",
       "\n",
       "    .dataframe tbody tr th {\n",
       "        vertical-align: top;\n",
       "    }\n",
       "\n",
       "    .dataframe thead th {\n",
       "        text-align: right;\n",
       "    }\n",
       "</style>\n",
       "<table border=\"1\" class=\"dataframe\">\n",
       "  <thead>\n",
       "    <tr style=\"text-align: right;\">\n",
       "      <th></th>\n",
       "      <th>Id</th>\n",
       "      <th>age</th>\n",
       "      <th>years_of_experience</th>\n",
       "      <th>lesson_price</th>\n",
       "      <th>qualification</th>\n",
       "      <th>physics</th>\n",
       "      <th>chemistry</th>\n",
       "      <th>biology</th>\n",
       "      <th>english</th>\n",
       "      <th>geography</th>\n",
       "      <th>history</th>\n",
       "      <th>mean_exam_points</th>\n",
       "    </tr>\n",
       "  </thead>\n",
       "  <tbody>\n",
       "    <tr>\n",
       "      <th>0</th>\n",
       "      <td>10000</td>\n",
       "      <td>32.0</td>\n",
       "      <td>2.0</td>\n",
       "      <td>2700.0</td>\n",
       "      <td>3.0</td>\n",
       "      <td>0.0</td>\n",
       "      <td>0.0</td>\n",
       "      <td>0.0</td>\n",
       "      <td>0.0</td>\n",
       "      <td>0.0</td>\n",
       "      <td>0.0</td>\n",
       "      <td>90.0</td>\n",
       "    </tr>\n",
       "    <tr>\n",
       "      <th>1</th>\n",
       "      <td>10001</td>\n",
       "      <td>35.0</td>\n",
       "      <td>6.0</td>\n",
       "      <td>1800.0</td>\n",
       "      <td>2.0</td>\n",
       "      <td>1.0</td>\n",
       "      <td>1.0</td>\n",
       "      <td>0.0</td>\n",
       "      <td>0.0</td>\n",
       "      <td>0.0</td>\n",
       "      <td>0.0</td>\n",
       "      <td>71.0</td>\n",
       "    </tr>\n",
       "    <tr>\n",
       "      <th>2</th>\n",
       "      <td>10002</td>\n",
       "      <td>44.0</td>\n",
       "      <td>2.0</td>\n",
       "      <td>1200.0</td>\n",
       "      <td>1.0</td>\n",
       "      <td>0.0</td>\n",
       "      <td>0.0</td>\n",
       "      <td>0.0</td>\n",
       "      <td>0.0</td>\n",
       "      <td>0.0</td>\n",
       "      <td>0.0</td>\n",
       "      <td>45.0</td>\n",
       "    </tr>\n",
       "    <tr>\n",
       "      <th>3</th>\n",
       "      <td>10003</td>\n",
       "      <td>44.0</td>\n",
       "      <td>4.0</td>\n",
       "      <td>2950.0</td>\n",
       "      <td>3.0</td>\n",
       "      <td>1.0</td>\n",
       "      <td>0.0</td>\n",
       "      <td>0.0</td>\n",
       "      <td>0.0</td>\n",
       "      <td>0.0</td>\n",
       "      <td>0.0</td>\n",
       "      <td>92.0</td>\n",
       "    </tr>\n",
       "    <tr>\n",
       "      <th>4</th>\n",
       "      <td>10004</td>\n",
       "      <td>38.0</td>\n",
       "      <td>3.0</td>\n",
       "      <td>1400.0</td>\n",
       "      <td>2.0</td>\n",
       "      <td>1.0</td>\n",
       "      <td>0.0</td>\n",
       "      <td>0.0</td>\n",
       "      <td>0.0</td>\n",
       "      <td>0.0</td>\n",
       "      <td>0.0</td>\n",
       "      <td>58.0</td>\n",
       "    </tr>\n",
       "  </tbody>\n",
       "</table>\n",
       "</div>"
      ],
      "text/plain": [
       "      Id   age  years_of_experience  lesson_price  qualification  physics  \\\n",
       "0  10000  32.0                  2.0        2700.0            3.0      0.0   \n",
       "1  10001  35.0                  6.0        1800.0            2.0      1.0   \n",
       "2  10002  44.0                  2.0        1200.0            1.0      0.0   \n",
       "3  10003  44.0                  4.0        2950.0            3.0      1.0   \n",
       "4  10004  38.0                  3.0        1400.0            2.0      1.0   \n",
       "\n",
       "   chemistry  biology  english  geography  history  mean_exam_points  \n",
       "0        0.0      0.0      0.0        0.0      0.0              90.0  \n",
       "1        1.0      0.0      0.0        0.0      0.0              71.0  \n",
       "2        0.0      0.0      0.0        0.0      0.0              45.0  \n",
       "3        0.0      0.0      0.0        0.0      0.0              92.0  \n",
       "4        0.0      0.0      0.0        0.0      0.0              58.0  "
      ]
     },
     "execution_count": 333,
     "metadata": {},
     "output_type": "execute_result"
    }
   ],
   "source": [
    "df_kaggle = pd.read_csv('test.csv',',')\n",
    "df_kaggle.head()"
   ]
  },
  {
   "cell_type": "code",
   "execution_count": 334,
   "metadata": {},
   "outputs": [
    {
     "data": {
      "text/plain": [
       "array([[2.00e+00, 2.70e+03, 3.00e+00],\n",
       "       [6.00e+00, 1.80e+03, 2.00e+00],\n",
       "       [2.00e+00, 1.20e+03, 1.00e+00],\n",
       "       ...,\n",
       "       [2.00e+00, 1.25e+03, 1.00e+00],\n",
       "       [5.00e+00, 1.00e+03, 2.00e+00],\n",
       "       [0.00e+00, 1.50e+03, 1.00e+00]])"
      ]
     },
     "execution_count": 334,
     "metadata": {},
     "output_type": "execute_result"
    }
   ],
   "source": [
    "X_kaggle = df_kaggle.loc[:,['years_of_experience','lesson_price','qualification']].values\n",
    "X_kaggle"
   ]
  },
  {
   "cell_type": "code",
   "execution_count": 335,
   "metadata": {},
   "outputs": [],
   "source": [
    "X_kaggle_st = X_kaggle.copy()"
   ]
  },
  {
   "cell_type": "code",
   "execution_count": 336,
   "metadata": {},
   "outputs": [],
   "source": [
    "X_kaggle_st = calc_std_feat(X_kaggle)"
   ]
  },
  {
   "cell_type": "code",
   "execution_count": 337,
   "metadata": {},
   "outputs": [
    {
     "data": {
      "text/plain": [
       "array([[-0.66090762, -0.65623578, -0.66090762, ..., -0.66090762,\n",
       "        -0.65740374, -0.66324353],\n",
       "       [ 2.49024256,  1.43908053,  0.73830584, ...,  0.79670373,\n",
       "         0.50471428,  1.08869319],\n",
       "       [-0.65973966, -0.66090762, -0.66207557, ..., -0.66207557,\n",
       "        -0.66090762, -0.66207557]])"
      ]
     },
     "execution_count": 337,
     "metadata": {},
     "output_type": "execute_result"
    }
   ],
   "source": [
    "X_kaggle_st = X_kaggle_st.T\n",
    "X_kaggle_st"
   ]
  },
  {
   "cell_type": "code",
   "execution_count": 338,
   "metadata": {},
   "outputs": [
    {
     "name": "stdout",
     "output_type": "stream",
     "text": [
      "[-3.46414293 -2.51410532 -1.88774012 ... -1.94036472 -1.6731023\n",
      " -2.20546892]\n"
     ]
    },
    {
     "data": {
      "text/plain": [
       "array([0, 0, 1, ..., 1, 1, 1])"
      ]
     },
     "execution_count": 338,
     "metadata": {},
     "output_type": "execute_result"
    }
   ],
   "source": [
    "kaggle_prediction = calc_pred(W,X_kaggle_st)\n",
    "kaggle_prediction"
   ]
  },
  {
   "cell_type": "code",
   "execution_count": 339,
   "metadata": {},
   "outputs": [
    {
     "data": {
      "text/html": [
       "<div>\n",
       "<style scoped>\n",
       "    .dataframe tbody tr th:only-of-type {\n",
       "        vertical-align: middle;\n",
       "    }\n",
       "\n",
       "    .dataframe tbody tr th {\n",
       "        vertical-align: top;\n",
       "    }\n",
       "\n",
       "    .dataframe thead th {\n",
       "        text-align: right;\n",
       "    }\n",
       "</style>\n",
       "<table border=\"1\" class=\"dataframe\">\n",
       "  <thead>\n",
       "    <tr style=\"text-align: right;\">\n",
       "      <th></th>\n",
       "      <th>Id</th>\n",
       "      <th>age</th>\n",
       "      <th>years_of_experience</th>\n",
       "      <th>lesson_price</th>\n",
       "      <th>qualification</th>\n",
       "      <th>physics</th>\n",
       "      <th>chemistry</th>\n",
       "      <th>biology</th>\n",
       "      <th>english</th>\n",
       "      <th>geography</th>\n",
       "      <th>history</th>\n",
       "      <th>mean_exam_points</th>\n",
       "      <th>choose</th>\n",
       "    </tr>\n",
       "  </thead>\n",
       "  <tbody>\n",
       "    <tr>\n",
       "      <th>0</th>\n",
       "      <td>10000</td>\n",
       "      <td>32.0</td>\n",
       "      <td>2.0</td>\n",
       "      <td>2700.0</td>\n",
       "      <td>3.0</td>\n",
       "      <td>0.0</td>\n",
       "      <td>0.0</td>\n",
       "      <td>0.0</td>\n",
       "      <td>0.0</td>\n",
       "      <td>0.0</td>\n",
       "      <td>0.0</td>\n",
       "      <td>90.0</td>\n",
       "      <td>0</td>\n",
       "    </tr>\n",
       "    <tr>\n",
       "      <th>1</th>\n",
       "      <td>10001</td>\n",
       "      <td>35.0</td>\n",
       "      <td>6.0</td>\n",
       "      <td>1800.0</td>\n",
       "      <td>2.0</td>\n",
       "      <td>1.0</td>\n",
       "      <td>1.0</td>\n",
       "      <td>0.0</td>\n",
       "      <td>0.0</td>\n",
       "      <td>0.0</td>\n",
       "      <td>0.0</td>\n",
       "      <td>71.0</td>\n",
       "      <td>0</td>\n",
       "    </tr>\n",
       "    <tr>\n",
       "      <th>2</th>\n",
       "      <td>10002</td>\n",
       "      <td>44.0</td>\n",
       "      <td>2.0</td>\n",
       "      <td>1200.0</td>\n",
       "      <td>1.0</td>\n",
       "      <td>0.0</td>\n",
       "      <td>0.0</td>\n",
       "      <td>0.0</td>\n",
       "      <td>0.0</td>\n",
       "      <td>0.0</td>\n",
       "      <td>0.0</td>\n",
       "      <td>45.0</td>\n",
       "      <td>1</td>\n",
       "    </tr>\n",
       "    <tr>\n",
       "      <th>3</th>\n",
       "      <td>10003</td>\n",
       "      <td>44.0</td>\n",
       "      <td>4.0</td>\n",
       "      <td>2950.0</td>\n",
       "      <td>3.0</td>\n",
       "      <td>1.0</td>\n",
       "      <td>0.0</td>\n",
       "      <td>0.0</td>\n",
       "      <td>0.0</td>\n",
       "      <td>0.0</td>\n",
       "      <td>0.0</td>\n",
       "      <td>92.0</td>\n",
       "      <td>0</td>\n",
       "    </tr>\n",
       "    <tr>\n",
       "      <th>4</th>\n",
       "      <td>10004</td>\n",
       "      <td>38.0</td>\n",
       "      <td>3.0</td>\n",
       "      <td>1400.0</td>\n",
       "      <td>2.0</td>\n",
       "      <td>1.0</td>\n",
       "      <td>0.0</td>\n",
       "      <td>0.0</td>\n",
       "      <td>0.0</td>\n",
       "      <td>0.0</td>\n",
       "      <td>0.0</td>\n",
       "      <td>58.0</td>\n",
       "      <td>1</td>\n",
       "    </tr>\n",
       "  </tbody>\n",
       "</table>\n",
       "</div>"
      ],
      "text/plain": [
       "      Id   age  years_of_experience  lesson_price  qualification  physics  \\\n",
       "0  10000  32.0                  2.0        2700.0            3.0      0.0   \n",
       "1  10001  35.0                  6.0        1800.0            2.0      1.0   \n",
       "2  10002  44.0                  2.0        1200.0            1.0      0.0   \n",
       "3  10003  44.0                  4.0        2950.0            3.0      1.0   \n",
       "4  10004  38.0                  3.0        1400.0            2.0      1.0   \n",
       "\n",
       "   chemistry  biology  english  geography  history  mean_exam_points  choose  \n",
       "0        0.0      0.0      0.0        0.0      0.0              90.0       0  \n",
       "1        1.0      0.0      0.0        0.0      0.0              71.0       0  \n",
       "2        0.0      0.0      0.0        0.0      0.0              45.0       1  \n",
       "3        0.0      0.0      0.0        0.0      0.0              92.0       0  \n",
       "4        0.0      0.0      0.0        0.0      0.0              58.0       1  "
      ]
     },
     "execution_count": 339,
     "metadata": {},
     "output_type": "execute_result"
    }
   ],
   "source": [
    "df_kaggle['choose'] = kaggle_prediction\n",
    "df_kaggle.head()"
   ]
  },
  {
   "cell_type": "code",
   "execution_count": 340,
   "metadata": {},
   "outputs": [
    {
     "data": {
      "text/html": [
       "<div>\n",
       "<style scoped>\n",
       "    .dataframe tbody tr th:only-of-type {\n",
       "        vertical-align: middle;\n",
       "    }\n",
       "\n",
       "    .dataframe tbody tr th {\n",
       "        vertical-align: top;\n",
       "    }\n",
       "\n",
       "    .dataframe thead th {\n",
       "        text-align: right;\n",
       "    }\n",
       "</style>\n",
       "<table border=\"1\" class=\"dataframe\">\n",
       "  <thead>\n",
       "    <tr style=\"text-align: right;\">\n",
       "      <th></th>\n",
       "      <th>Id</th>\n",
       "      <th>choose</th>\n",
       "    </tr>\n",
       "  </thead>\n",
       "  <tbody>\n",
       "    <tr>\n",
       "      <th>0</th>\n",
       "      <td>10000</td>\n",
       "      <td>0</td>\n",
       "    </tr>\n",
       "    <tr>\n",
       "      <th>1</th>\n",
       "      <td>10001</td>\n",
       "      <td>0</td>\n",
       "    </tr>\n",
       "    <tr>\n",
       "      <th>2</th>\n",
       "      <td>10002</td>\n",
       "      <td>1</td>\n",
       "    </tr>\n",
       "    <tr>\n",
       "      <th>3</th>\n",
       "      <td>10003</td>\n",
       "      <td>0</td>\n",
       "    </tr>\n",
       "    <tr>\n",
       "      <th>4</th>\n",
       "      <td>10004</td>\n",
       "      <td>1</td>\n",
       "    </tr>\n",
       "  </tbody>\n",
       "</table>\n",
       "</div>"
      ],
      "text/plain": [
       "      Id  choose\n",
       "0  10000       0\n",
       "1  10001       0\n",
       "2  10002       1\n",
       "3  10003       0\n",
       "4  10004       1"
      ]
     },
     "execution_count": 340,
     "metadata": {},
     "output_type": "execute_result"
    }
   ],
   "source": [
    "df_kaggle.drop(\"age\", axis=1, inplace=True)\n",
    "df_kaggle.drop(\"years_of_experience\", axis=1, inplace=True)\n",
    "df_kaggle.drop(\"lesson_price\", axis=1, inplace=True)\n",
    "df_kaggle.drop(\"qualification\", axis=1, inplace=True)\n",
    "df_kaggle.drop(\"physics\", axis=1, inplace=True)\n",
    "df_kaggle.drop(\"chemistry\", axis=1, inplace=True)\n",
    "df_kaggle.drop(\"biology\", axis=1, inplace=True)\n",
    "df_kaggle.drop(\"english\", axis=1, inplace=True)\n",
    "df_kaggle.drop(\"geography\", axis=1, inplace=True)\n",
    "df_kaggle.drop(\"history\", axis=1, inplace=True)\n",
    "df_kaggle.drop(\"mean_exam_points\", axis=1, inplace=True)\n",
    "df_kaggle.head()"
   ]
  },
  {
   "cell_type": "code",
   "execution_count": 341,
   "metadata": {},
   "outputs": [],
   "source": [
    "df_kaggle.to_csv('sych_gulnara.csv',index=False)"
   ]
  },
  {
   "cell_type": "code",
   "execution_count": null,
   "metadata": {},
   "outputs": [],
   "source": []
  },
  {
   "cell_type": "code",
   "execution_count": null,
   "metadata": {},
   "outputs": [],
   "source": []
  }
 ],
 "metadata": {
  "kernelspec": {
   "display_name": "Python 3",
   "language": "python",
   "name": "python3"
  },
  "language_info": {
   "codemirror_mode": {
    "name": "ipython",
    "version": 3
   },
   "file_extension": ".py",
   "mimetype": "text/x-python",
   "name": "python",
   "nbconvert_exporter": "python",
   "pygments_lexer": "ipython3",
   "version": "3.7.5"
  }
 },
 "nbformat": 4,
 "nbformat_minor": 4
}
